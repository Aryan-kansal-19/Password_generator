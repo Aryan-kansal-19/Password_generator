{
 "cells": [
  {
   "cell_type": "code",
   "execution_count": 22,
   "metadata": {},
   "outputs": [],
   "source": [
    "import re\n",
    "import random\n",
    "import string"
   ]
  },
  {
   "cell_type": "code",
   "execution_count": 14,
   "metadata": {},
   "outputs": [],
   "source": [
    "length = int(input())\n",
    "\n",
    "alpha_len = int(input())\n",
    "\n",
    "num_len = int(input())\n",
    "\n",
    "spe_len = int(input())"
   ]
  },
  {
   "cell_type": "code",
   "execution_count": 167,
   "metadata": {},
   "outputs": [],
   "source": [
    "class pass_gen():\n",
    "    def __init__(self, pass_len, aplha_len, num_len, spe_len, def_bool = True ):\n",
    "        self.pass_len = pass_len\n",
    "        self.aplha_len = aplha_len\n",
    "        self.num_len = num_len \n",
    "        self.spe_len = spe_len\n",
    "        self.def_bool = def_bool\n",
    "    \n",
    "    def IsEmpty(password, pos):\n",
    "        if password[pos] == \"0\":\n",
    "            return True\n",
    "        return False    \n",
    "        \n",
    "    def gen(self):\n",
    "        aplha_lst = list(string.ascii_lowercase)+list(string.ascii_uppercase)\n",
    "        num_lst = [\"0\", \"1\", \"2\", \"3\", \"4\", \"5\", \"6\", \"7\", \"8\", \"9\"]        \n",
    "        spe_lst = list(\"!@#$%^&?_\")\n",
    "        \n",
    "        password = []\n",
    "        for i in range(self.pass_len):\n",
    "            password.append(\"0\")\n",
    "        length = 1\n",
    "        \n",
    "        \n",
    "        while self.pass_len > length:\n",
    "            #check = pass_gen.IsEmpty(password, length)\n",
    "            if self.aplha_len > 0:\n",
    "                aplha = aplha_lst[random.randrange(len(aplha_lst))]\n",
    "                \n",
    "            if self.num_len > 0:\n",
    "                number = num_lst[random.randrange(len(num_lst))]\n",
    "            \n",
    "            if self.spe_len > 0:\n",
    "                character = spe_lst[random.randrange(len(spe_lst))]\n",
    "                \n",
    "            chr = random.choice([aplha, number, character])\n",
    "            \n",
    "            if chr == aplha :\n",
    "                self.aplha_len -= 1\n",
    "            elif chr == number:\n",
    "                self.num_len -= 1\n",
    "            else:\n",
    "                self.spe_len -= 1\n",
    "            password[length] = chr \n",
    "            #check = pass_gen.IsEmpty(password, pos)\n",
    "            \n",
    "            length +=1\n",
    "            \n",
    "        return password"
   ]
  },
  {
   "cell_type": "code",
   "execution_count": 168,
   "metadata": {},
   "outputs": [
    {
     "name": "stdout",
     "output_type": "stream",
     "text": [
      "Password Length : 8\n",
      "Aplhabetical Length : 4\n",
      "Numeric Length :3\n",
      "Special Character Length : 1\n",
      "0L?73?4?\n"
     ]
    }
   ],
   "source": [
    "print(\"Password Length : {}\".format(length))\n",
    "print(\"Aplhabetical Length : {}\".format(alpha_len))\n",
    "print(\"Numeric Length :{}\".format(num_len))\n",
    "print(\"Special Character Length : {}\".format(spe_len))\n",
    "a = pass_gen(length, alpha_len, num_len, spe_len )\n",
    "b = a.gen()\n",
    "print(\"\".join(b))"
   ]
  },
  {
   "cell_type": "code",
   "execution_count": 128,
   "metadata": {},
   "outputs": [
    {
     "name": "stdout",
     "output_type": "stream",
     "text": [
      "\n"
     ]
    }
   ],
   "source": [
    "a = random.choice([\"a\", \"b\", \"c\"])\n",
    "print(a.join(\"\"))"
   ]
  }
 ],
 "metadata": {
  "interpreter": {
   "hash": "bca7c2d3fe6349e52d1576f7ab066391be890b5e278ecfda5482677f5ebf6b3d"
  },
  "kernelspec": {
   "display_name": "Python 3.9.7 64-bit",
   "language": "python",
   "name": "python3"
  },
  "language_info": {
   "codemirror_mode": {
    "name": "ipython",
    "version": 3
   },
   "file_extension": ".py",
   "mimetype": "text/x-python",
   "name": "python",
   "nbconvert_exporter": "python",
   "pygments_lexer": "ipython3",
   "version": "3.9.7"
  },
  "orig_nbformat": 4
 },
 "nbformat": 4,
 "nbformat_minor": 2
}
